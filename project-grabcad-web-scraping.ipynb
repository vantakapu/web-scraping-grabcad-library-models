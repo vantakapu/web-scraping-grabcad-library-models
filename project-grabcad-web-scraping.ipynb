{
 "cells": [
  {
   "cell_type": "markdown",
   "metadata": {
    "id": "h3NpYLxu5KFt"
   },
   "source": [
    "# Scraping popular 3D printing CAD models details from GRABCAD using Selenium & Python\n",
    "![](https://imgur.com/u9w2H8F.png)\n",
    "\n",
    "## Objective:\n",
    "\n",
    "* [Grabcad]('https://grabcad.com/library') evolved into a community for engineers to share CAD models, where engineers could upload and download models from a free CAD library\n",
    "* Individuals can like and comment each design depending on their interest. \n",
    "* In this project, we are going to built code to scrap the CAD models information such as url, author name and count of likes, downloads, comment. And download this data in csv format.\n"
   ]
  },
  {
   "cell_type": "markdown",
   "metadata": {
    "id": "ivrXi5iFalOF"
   },
   "source": [
    "# Introduction:\n",
    "\n",
    "* Web scraping is a process of collecting structured data in an automated fashion. And it shouldn't come as surprise as web scraping offers something really useful that no other method can. \n",
    "* It gives unstructured web data from any open website. And converting and storing that data in spreadsheets"
   ]
  },
  {
   "cell_type": "markdown",
   "metadata": {
    "id": "k041iwlMalOG"
   },
   "source": [
    "# Outline of the project:\n",
    "\n",
    "Here are the steps we will follow:\n",
    "\n",
    "* Select a website to scrap data [grabcad.com/library]('https://grabcad.com/library?page=1&per_page=100&time=all_time&sort=popular&categories=3d-printing') and understand it\n",
    "* Install and import all required libraries\n",
    "* Grabcad webpage is dynamically updated from time to time so first we install `kora selenium` web driver to interact with the page and parse the data\n",
    "* We will parse list of cad_file details from grabCad library. For each cad_file, we will get file title, URL, image URL, number of likes, downloads, and comments.\n",
    "* We will combine each cad_file data into list of dictionary \n",
    "* Finally we'll create a CSV file in the following format:\n",
    "\n",
    "  `Title, Author, URL, Image_URL, Likes, Downloads, Comments`\n",
    "\n",
    "  `Creality Sprite Extruder ...,\thttps://grabcad.com/library/creality-sprite-ex...,\thttps://d2t1xqejof9utc.cloudfront.net/screensh...,\t87,\t372,\t4`\n",
    "\n",
    "  `TBO T3 2022 Style convert...,\thttps://grabcad.com/library/tbo-t3-2022-style-...,\thttps://d2t1xqejof9utc.cloudfront.net/screensh...,\t75,\t387,\t3`"
   ]
  },
  {
   "cell_type": "markdown",
   "metadata": {
    "id": "O2JYmQrbi9Jw"
   },
   "source": [
    "# Installation and setup"
   ]
  },
  {
   "cell_type": "code",
   "execution_count": 1,
   "metadata": {
    "colab": {
     "base_uri": "https://localhost:8080/"
    },
    "executionInfo": {
     "elapsed": 10142,
     "status": "ok",
     "timestamp": 1672140837218,
     "user": {
      "displayName": "V Ravindhar Reddy",
      "userId": "01262237436482801696"
     },
     "user_tz": -60
    },
    "id": "USzdunqjKFgw",
    "outputId": "eaacbf09-8207-41fe-a2f4-09d86f8a1a2b"
   },
   "outputs": [
    {
     "name": "stdout",
     "output_type": "stream",
     "text": [
      "\u001b[?25l\r",
      "\u001b[K     |████▊                           | 10 kB 20.2 MB/s eta 0:00:01\r",
      "\u001b[K     |█████████▌                      | 20 kB 4.2 MB/s eta 0:00:01\r",
      "\u001b[K     |██████████████▎                 | 30 kB 6.0 MB/s eta 0:00:01\r",
      "\u001b[K     |███████████████████             | 40 kB 4.2 MB/s eta 0:00:01\r",
      "\u001b[K     |███████████████████████▉        | 51 kB 4.1 MB/s eta 0:00:01\r",
      "\u001b[K     |████████████████████████████▋   | 61 kB 4.9 MB/s eta 0:00:01\r",
      "\u001b[K     |████████████████████████████████| 68 kB 2.6 MB/s \n",
      "\u001b[?25h  Building wheel for uuid (setup.py) ... \u001b[?25l\u001b[?25hdone\n"
     ]
    }
   ],
   "source": [
    "!pip install jovian --upgrade --quiet"
   ]
  },
  {
   "cell_type": "code",
   "execution_count": 2,
   "metadata": {
    "executionInfo": {
     "elapsed": 412,
     "status": "ok",
     "timestamp": 1672140837625,
     "user": {
      "displayName": "V Ravindhar Reddy",
      "userId": "01262237436482801696"
     },
     "user_tz": -60
    },
    "id": "DHnAIMTiMTPo"
   },
   "outputs": [],
   "source": [
    "import jovian\n"
   ]
  },
  {
   "cell_type": "code",
   "execution_count": 3,
   "metadata": {
    "colab": {
     "base_uri": "https://localhost:8080/"
    },
    "executionInfo": {
     "elapsed": 6,
     "status": "ok",
     "timestamp": 1672140837626,
     "user": {
      "displayName": "V Ravindhar Reddy",
      "userId": "01262237436482801696"
     },
     "user_tz": -60
    },
    "id": "HZao0zvWQe2B",
    "outputId": "d2e92143-9e4b-4bcc-8175-207cc75fd48f"
   },
   "outputs": [
    {
     "name": "stdout",
     "output_type": "stream",
     "text": [
      "[jovian] Detected Colab notebook...\u001b[0m\n",
      "[jovian] jovian.commit() is no longer required on Google Colab. If you ran this notebook from Jovian, \n",
      "then just save this file in Colab using Ctrl+S/Cmd+S and it will be updated on Jovian. \n",
      "Also, you can also delete this cell, it's no longer necessary.\u001b[0m\n"
     ]
    }
   ],
   "source": [
    "# Execute this to save new versions of the notebook\n",
    "jovian.commit(project='project-grabcad-web-scraping-2')"
   ]
  },
  {
   "cell_type": "markdown",
   "metadata": {
    "id": "67AtG-pMWJKa"
   },
   "source": [
    "## Import requests and BeautifulSoup\n",
    "  `get()` to download page HTML"
   ]
  },
  {
   "cell_type": "code",
   "execution_count": 4,
   "metadata": {
    "executionInfo": {
     "elapsed": 308,
     "status": "ok",
     "timestamp": 1672140837931,
     "user": {
      "displayName": "V Ravindhar Reddy",
      "userId": "01262237436482801696"
     },
     "user_tz": -60
    },
    "id": "1NSM-ifCWVuI"
   },
   "outputs": [],
   "source": [
    "import  requests\n",
    "from bs4 import BeautifulSoup "
   ]
  },
  {
   "cell_type": "markdown",
   "metadata": {
    "id": "69v38CbaIRB8"
   },
   "source": [
    "## Installation of Kora.Selenium"
   ]
  },
  {
   "cell_type": "code",
   "execution_count": 5,
   "metadata": {
    "colab": {
     "base_uri": "https://localhost:8080/"
    },
    "executionInfo": {
     "elapsed": 17660,
     "status": "ok",
     "timestamp": 1672140855588,
     "user": {
      "displayName": "V Ravindhar Reddy",
      "userId": "01262237436482801696"
     },
     "user_tz": -60
    },
    "id": "DgZXuT3G80R6",
    "outputId": "521a249d-a511-4f45-a964-265fad50727c"
   },
   "outputs": [
    {
     "name": "stdout",
     "output_type": "stream",
     "text": [
      "\u001b[K     |████████████████████████████████| 239 kB 5.1 MB/s \n",
      "\u001b[K     |████████████████████████████████| 57 kB 3.8 MB/s \n",
      "\u001b[K     |████████████████████████████████| 357 kB 49.2 MB/s \n",
      "\u001b[K     |████████████████████████████████| 2.5 MB 52.1 MB/s \n",
      "\u001b[K     |████████████████████████████████| 6.3 MB 54.3 MB/s \n",
      "\u001b[K     |████████████████████████████████| 57 kB 2.2 MB/s \n",
      "\u001b[K     |████████████████████████████████| 4.0 MB 6.8 MB/s \n",
      "\u001b[K     |████████████████████████████████| 140 kB 46.6 MB/s \n",
      "\u001b[K     |████████████████████████████████| 384 kB 53.4 MB/s \n",
      "\u001b[K     |████████████████████████████████| 58 kB 4.8 MB/s \n",
      "\u001b[31mERROR: pip's dependency resolver does not currently take into account all the packages that are installed. This behaviour is the source of the following dependency conflicts.\n",
      "requests 2.23.0 requires urllib3!=1.25.0,!=1.25.1,<1.26,>=1.21.1, but you have urllib3 1.26.13 which is incompatible.\u001b[0m\n",
      "\u001b[?25h"
     ]
    }
   ],
   "source": [
    "!pip install selenium-wire --quiet"
   ]
  },
  {
   "cell_type": "code",
   "execution_count": 6,
   "metadata": {
    "colab": {
     "base_uri": "https://localhost:8080/"
    },
    "executionInfo": {
     "elapsed": 48421,
     "status": "ok",
     "timestamp": 1672140903994,
     "user": {
      "displayName": "V Ravindhar Reddy",
      "userId": "01262237436482801696"
     },
     "user_tz": -60
    },
    "id": "B9uMkp7bJeHv",
    "outputId": "054be76d-1594-407f-d541-4114701a413c"
   },
   "outputs": [
    {
     "name": "stdout",
     "output_type": "stream",
     "text": [
      "\u001b[K     |████████████████████████████████| 57 kB 2.9 MB/s \n",
      "\u001b[K     |████████████████████████████████| 1.6 MB 11.0 MB/s \n",
      "\u001b[?25h"
     ]
    }
   ],
   "source": [
    "!pip install kora -q --quiet\n",
    "from kora.selenium import wd"
   ]
  },
  {
   "cell_type": "markdown",
   "metadata": {
    "id": "M88G-hp22l9s"
   },
   "source": [
    "![](https://imgur.com/FCYFF52.png)"
   ]
  },
  {
   "cell_type": "markdown",
   "metadata": {
    "id": "xZpQVHlXZLa8"
   },
   "source": [
    "## Import required webdriver libraries"
   ]
  },
  {
   "cell_type": "code",
   "execution_count": 7,
   "metadata": {
    "executionInfo": {
     "elapsed": 16,
     "status": "ok",
     "timestamp": 1672140903994,
     "user": {
      "displayName": "V Ravindhar Reddy",
      "userId": "01262237436482801696"
     },
     "user_tz": -60
    },
    "id": "xsMmfbQB8Jmw"
   },
   "outputs": [],
   "source": [
    "from selenium.webdriver.common.by import By\n",
    "from selenium.webdriver.chrome.options import Options\n",
    "from seleniumwire import webdriver\n",
    "from selenium.webdriver.support.ui import WebDriverWait\n",
    "from selenium.webdriver.support import expected_conditions as EC\n",
    "from selenium.common.exceptions import TimeoutException\n",
    "import time\n",
    "\n"
   ]
  },
  {
   "cell_type": "code",
   "execution_count": 8,
   "metadata": {
    "executionInfo": {
     "elapsed": 1030,
     "status": "ok",
     "timestamp": 1672140905009,
     "user": {
      "displayName": "V Ravindhar Reddy",
      "userId": "01262237436482801696"
     },
     "user_tz": -60
    },
    "id": "nprUpdJUPkST"
   },
   "outputs": [],
   "source": [
    "options = Options()\n",
    "options.add_argument('--no-sandbox')\n",
    "options.add_argument('--headless')\n",
    "options.add_argument('--disable-dev-shm-usage')\n",
    "options.add_argument('--disable-blink-features=AutomationControlled')\n",
    "wd = webdriver.Chrome(executable_path=\"chromedriver\",options = options)"
   ]
  },
  {
   "cell_type": "code",
   "execution_count": 9,
   "metadata": {
    "colab": {
     "base_uri": "https://localhost:8080/"
    },
    "executionInfo": {
     "elapsed": 7,
     "status": "ok",
     "timestamp": 1672140905010,
     "user": {
      "displayName": "V Ravindhar Reddy",
      "userId": "01262237436482801696"
     },
     "user_tz": -60
    },
    "id": "E1DRggo1PkAd",
    "outputId": "6533c5f7-14a8-4589-8d1f-8e48b5e6262e"
   },
   "outputs": [
    {
     "name": "stdout",
     "output_type": "stream",
     "text": [
      "Mozilla/5.0 (X11; Linux x86_64) AppleWebKit/537.36 (KHTML, like Gecko) HeadlessChrome/108.0.5359.71 Safari/537.36\n",
      "Mozilla/5.0 (Windows NT 10.0; Win64; x64) AppleWebKit/537.36 (KHTML, like Gecko) Chrome/83.0.4103.97 Safari/537.36\n",
      "Mozilla/5.0 (Windows NT 10.0; Win64; x64) AppleWebKit/537.36 (KHTML, like Gecko) Chrome/83.0.4103.53 Safari/537.36\n"
     ]
    }
   ],
   "source": [
    "print(wd.execute_script(\"return navigator.userAgent;\"))\n",
    "# Setting user agent as Chrome/83.0.4103.97\n",
    "wd.execute_cdp_cmd('Network.setUserAgentOverride', {\"userAgent\": 'Mozilla/5.0 (Windows NT 10.0; Win64; x64) AppleWebKit/537.36 (KHTML, like Gecko) Chrome/83.0.4103.97 Safari/537.36'})\n",
    "print(wd.execute_script(\"return navigator.userAgent;\"))\n",
    "# Setting user agent as Chrome/83.0.4103.53\n",
    "wd.execute_cdp_cmd('Network.setUserAgentOverride', {\"userAgent\": 'Mozilla/5.0 (Windows NT 10.0; Win64; x64) AppleWebKit/537.36 (KHTML, like Gecko) Chrome/83.0.4103.53 Safari/537.36'})\n",
    "print(wd.execute_script(\"return navigator.userAgent;\"))"
   ]
  },
  {
   "cell_type": "markdown",
   "metadata": {
    "id": "mPBvTYq7G3Xu"
   },
   "source": [
    "# Get into the website and get webpage \n",
    "\n",
    "Let's write a function to get the webpage"
   ]
  },
  {
   "cell_type": "code",
   "execution_count": 10,
   "metadata": {
    "colab": {
     "base_uri": "https://localhost:8080/",
     "height": 617
    },
    "executionInfo": {
     "elapsed": 18652,
     "status": "ok",
     "timestamp": 1672140923658,
     "user": {
      "displayName": "V Ravindhar Reddy",
      "userId": "01262237436482801696"
     },
     "user_tz": -60
    },
    "id": "WYTjAnSxNuNb",
    "outputId": "599ad249-573c-4484-9965-97eb15090816"
   },
   "outputs": [
    {
     "data": {
      "image/png": "[encoded data removed]",
      "text/plain": [
       "<seleniumwire.webdriver.Chrome (session=\"65468e67d2ee24131697bf56fe23653d\")>"
      ]
     },
     "execution_count": 10,
     "metadata": {},
     "output_type": "execute_result"
    }
   ],
   "source": [
    "website = 'https://grabcad.com/library?page=1&per_page=100&time=all_time&sort=popular&categories=3d-printing'\n",
    "wd.get(website)\n",
    "wd"
   ]
  },
  {
   "cell_type": "markdown",
   "metadata": {
    "id": "XrNcOEd2XB9A"
   },
   "source": [
    "## Define a function to get status of webpage"
   ]
  },
  {
   "cell_type": "code",
   "execution_count": 11,
   "metadata": {
    "executionInfo": {
     "elapsed": 13,
     "status": "ok",
     "timestamp": 1672140923954,
     "user": {
      "displayName": "V Ravindhar Reddy",
      "userId": "01262237436482801696"
     },
     "user_tz": -60
    },
    "id": "5mJEeWPxV38p"
   },
   "outputs": [],
   "source": [
    "def check_status_code(website):\n",
    "  \n",
    "  response = requests.get(website)\n",
    "\n",
    "  # A Valid url status code ranges between 200 to 299\n",
    "  if not response.ok:\n",
    "     raise Exception ('Failed to fetch the webpage')\n",
    "  \n",
    "  return response.status_code"
   ]
  },
  {
   "cell_type": "code",
   "execution_count": 12,
   "metadata": {
    "colab": {
     "base_uri": "https://localhost:8080/"
    },
    "executionInfo": {
     "elapsed": 11,
     "status": "ok",
     "timestamp": 1672140923954,
     "user": {
      "displayName": "V Ravindhar Reddy",
      "userId": "01262237436482801696"
     },
     "user_tz": -60
    },
    "id": "jQIviZiUV-BB",
    "outputId": "d1d9fb83-368b-4399-a8eb-28b78227f027"
   },
   "outputs": [
    {
     "data": {
      "text/plain": [
       "200"
      ]
     },
     "execution_count": 12,
     "metadata": {},
     "output_type": "execute_result"
    }
   ],
   "source": [
    "check_status_code(website)"
   ]
  },
  {
   "cell_type": "markdown",
   "metadata": {
    "id": "5TXzVrBRXzEr"
   },
   "source": [
    "## Defining a function to find all elements in the page"
   ]
  },
  {
   "cell_type": "code",
   "execution_count": 13,
   "metadata": {
    "executionInfo": {
     "elapsed": 8,
     "status": "ok",
     "timestamp": 1672140923954,
     "user": {
      "displayName": "V Ravindhar Reddy",
      "userId": "01262237436482801696"
     },
     "user_tz": -60
    },
    "id": "Mh1A-uOSLBSU"
   },
   "outputs": [],
   "source": [
    "def get_files(website, wd):\n",
    "  k = []\n",
    "  wd.get(website)\n",
    "  get_data =  wd.find_elements(By.CLASS_NAME, 'modelCard')\n",
    "\n",
    "  for i in get_data:\n",
    "    k.append(i)\n",
    "  return k\n"
   ]
  },
  {
   "cell_type": "markdown",
   "metadata": {
    "id": "igDbek6k0YKZ"
   },
   "source": [
    "`get_files` can be used to get the each element in the page\n",
    "![](https://imgur.com/RachQgp.png)"
   ]
  },
  {
   "cell_type": "markdown",
   "metadata": {
    "id": "tGZTBY0FZbkE"
   },
   "source": [
    "Find out number of total elements in the page"
   ]
  },
  {
   "cell_type": "code",
   "execution_count": 14,
   "metadata": {
    "colab": {
     "base_uri": "https://localhost:8080/"
    },
    "executionInfo": {
     "elapsed": 6787,
     "status": "ok",
     "timestamp": 1672140930734,
     "user": {
      "displayName": "V Ravindhar Reddy",
      "userId": "01262237436482801696"
     },
     "user_tz": -60
    },
    "id": "GKbr8HZ9R4nx",
    "outputId": "d5258497-ae9a-4893-e674-84022b6d541a"
   },
   "outputs": [
    {
     "name": "stdout",
     "output_type": "stream",
     "text": [
      "101\n"
     ]
    }
   ],
   "source": [
    "item_box = get_files(website, wd)\n",
    "print(len(item_box))"
   ]
  },
  {
   "cell_type": "code",
   "execution_count": 15,
   "metadata": {
    "colab": {
     "base_uri": "https://localhost:8080/"
    },
    "executionInfo": {
     "elapsed": 15,
     "status": "ok",
     "timestamp": 1672140930735,
     "user": {
      "displayName": "V Ravindhar Reddy",
      "userId": "01262237436482801696"
     },
     "user_tz": -60
    },
    "id": "G2s8_rOfgrIl",
    "outputId": "3fe88f76-8b63-4b66-c3a4-e449a180add1"
   },
   "outputs": [
    {
     "data": {
      "text/plain": [
       "<div class=\"modelCard\">\n",
       "        <div class=\"imageArea\">\n",
       "          <div class=\"hoverInfo\">\n",
       "            <a href=\"/library/biqu-h2-v2s-lite-1\" class=\"modelLink\">\n",
       "              <img class=\"previewImage\" ng-src=\"https://d2t1xqejof9utc.cloudfront.net/screenshots/pics/9f40f8e3a8d8f36f8456aab6bd3e8835/card.jpg\" err-src=\"https://d2t1xqejof9utc.cloudfront.net/screenshots/pics/missing_small.png\" alt=\"BIQU H2 V2s lite\" src=\"https://d2t1xqejof9utc.cloudfront.net/screenshots/pics/9f40f8e3a8d8f36f8456aab6bd3e8835/card.jpg\" style=\"display: block;\">\n",
       "            </a>\n",
       "            <div class=\"actions\">\n",
       "              <div class=\"buttons\">\n",
       "                <span class=\"background\"></span>\n",
       "                <span class=\"actionButton gc-icon gc-icon-3d-white\" ng-click=\"showViewableFilesModal(model)\" analytics-on=\"click\" analytics-category=\"Unauthenticated: 3d views\" analytics-event=\"3d view in library\" analytics-label=\"biqu-h2-v2s-lite-1\">\n",
       "                </span>\n",
       "              </div>\n",
       "              <a href=\"/library/biqu-h2-v2s-lite-1\" class=\"modelCreated\">\n",
       "                <span class=\"ng-binding\">\n",
       "                  November 29th, 2022\n",
       "                </span>\n",
       "              </a>\n",
       "            </div>\n",
       "          </div>\n",
       "        </div>\n",
       "        <div class=\"bottomInfo\">\n",
       "          <div class=\"info\">\n",
       "            <div class=\"infoSection\">\n",
       "              <span class=\"modelInfo\">\n",
       "                <div class=\"title\">\n",
       "                  <div class=\"modelName text-bold\"><a href=\"/library/biqu-h2-v2s-lite-1\"><span class=\"name ng-binding\">BIQU H2 V2s lite</span></a></div><br>\n",
       "                  <div class=\"author\">by <a href=\"/max.morozov-2\" target=\"_parent\" class=\"ng-binding\">max morozov</a></div>\n",
       "                </div>\n",
       "              </span>\n",
       "              <span class=\"author\">\n",
       "                <a href=\"/max.morozov-2\" target=\"_parent\"><img ng-src=\"https://d2t1xqejof9utc.cloudfront.net/members/avatars/1559245/feed.png?1513545876\" src=\"https://d2t1xqejof9utc.cloudfront.net/members/avatars/1559245/feed.png?1513545876\"></a>\n",
       "              </span>\n",
       "            </div>\n",
       "            <div class=\"countsSection\">\n",
       "              <span class=\"counts\">\n",
       "                <span class=\"count\" ng-click=\"toggleLike(model)\" ng-class=\"{'liked': model.has_liked}\" tooltip-placement=\"bottom\" tooltip=\"Like\" analytics-on=\"click\" analytics-category=\"Unauthenticated: Likes\" analytics-event=\"Like in library\" analytics-label=\"biqu-h2-v2s-lite-1\">\n",
       "                  <!-- ngIf: model.has_liked -->\n",
       "                  <!-- ngIf: !model.has_liked --><span ng-if=\"!model.has_liked\" class=\"gc-icon gc-icon-like ng-scope\"></span><!-- end ngIf: !model.has_liked -->\n",
       "                  <span class=\"text ng-binding\">35</span>\n",
       "                </span>\n",
       "                <span class=\"count\" ng-click=\"getLastArchive(model)\" tooltip-placement=\"bottom\" tooltip=\"Download\" analytics-on=\"click\" analytics-category=\"Unauthenticated: Downloads\" analytics-event=\"Download in library\" analytics-label=\"biqu-h2-v2s-lite-1\">\n",
       "                  <span class=\"gc-icon gc-icon-download\"></span>\n",
       "                  <span class=\"text ng-binding\">143</span>\n",
       "                </span>\n",
       "                <a href=\"/library/biqu-h2-v2s-lite-1\" class=\"count\" tooltip-placement=\"bottom\" tooltip=\"Comment\">\n",
       "                  <span class=\"gc-icon gc-icon-comment\"></span>\n",
       "                  <span class=\"text ng-binding\">1</span>\n",
       "                </a>\n",
       "              </span>\n",
       "            </div>\n",
       "          </div>\n",
       "          <div class=\"softwares\">\n",
       "            <!-- ngRepeat: software in model.softwares --><span ng-repeat=\"software in model.softwares\" class=\"ng-binding ng-scope\">STEP / IGES<span ng-show=\"software.version\" class=\"ng-binding ng-hide\"> </span><span ng-show=\"software != model.softwares[model.softwares.length-1]\">, </span></span><!-- end ngRepeat: software in model.softwares --><span ng-repeat=\"software in model.softwares\" class=\"ng-binding ng-scope\">Rendering<span ng-show=\"software.version\" class=\"ng-binding ng-hide\"> </span><span ng-show=\"software != model.softwares[model.softwares.length-1]\" class=\"ng-hide\">, </span></span><!-- end ngRepeat: software in model.softwares -->\n",
       "          </div>\n",
       "        </div>\n",
       "      </div>"
      ]
     },
     "execution_count": 15,
     "metadata": {},
     "output_type": "execute_result"
    }
   ],
   "source": [
    "item_box[1]"
   ]
  },
  {
   "cell_type": "markdown",
   "metadata": {
    "id": "8TaTqo3PSpHe"
   },
   "source": [
    "## Function to get number of page URLS\n",
    "There are 100 models per page, so let's scrap up to 2 pages"
   ]
  },
  {
   "cell_type": "code",
   "execution_count": 16,
   "metadata": {
    "executionInfo": {
     "elapsed": 12,
     "status": "ok",
     "timestamp": 1672140930735,
     "user": {
      "displayName": "V Ravindhar Reddy",
      "userId": "01262237436482801696"
     },
     "user_tz": -60
    },
    "id": "52LjIWLMdPn0"
   },
   "outputs": [],
   "source": [
    "def get_page_urls():\n",
    "    urls=[]\n",
    "    # Let's scrap data for 2 pages\n",
    "    for i in range(1,6):\n",
    "        website='https://grabcad.com/library?page={}&per_page=100&time=all_time&sort=popular&categories=3d-printing'.format(*str(i))\n",
    "\n",
    "        urls.append(website)\n",
    "    return urls"
   ]
  },
  {
   "cell_type": "code",
   "execution_count": 17,
   "metadata": {
    "colab": {
     "base_uri": "https://localhost:8080/"
    },
    "executionInfo": {
     "elapsed": 12,
     "status": "ok",
     "timestamp": 1672140930735,
     "user": {
      "displayName": "V Ravindhar Reddy",
      "userId": "01262237436482801696"
     },
     "user_tz": -60
    },
    "id": "gSJvnHxUd0RD",
    "outputId": "951423f1-f696-4f7c-d19e-b39b067117c8"
   },
   "outputs": [
    {
     "data": {
      "text/plain": [
       "['https://grabcad.com/library?page=1&per_page=100&time=all_time&sort=popular&categories=3d-printing',\n",
       " 'https://grabcad.com/library?page=2&per_page=100&time=all_time&sort=popular&categories=3d-printing',\n",
       " 'https://grabcad.com/library?page=3&per_page=100&time=all_time&sort=popular&categories=3d-printing',\n",
       " 'https://grabcad.com/library?page=4&per_page=100&time=all_time&sort=popular&categories=3d-printing',\n",
       " 'https://grabcad.com/library?page=5&per_page=100&time=all_time&sort=popular&categories=3d-printing']"
      ]
     },
     "execution_count": 17,
     "metadata": {},
     "output_type": "execute_result"
    }
   ],
   "source": [
    "urls = (get_page_urls())\n",
    "urls"
   ]
  },
  {
   "cell_type": "markdown",
   "metadata": {
    "id": "KF7xSoNY0yHX"
   },
   "source": [
    "# Let's create simple functions to parse required data from the page"
   ]
  },
  {
   "cell_type": "markdown",
   "metadata": {
    "id": "y9kh2zzMi73n"
   },
   "source": [
    "## 1. Parsing Title of te cad_model\n",
    "\n"
   ]
  },
  {
   "cell_type": "code",
   "execution_count": 18,
   "metadata": {
    "executionInfo": {
     "elapsed": 388,
     "status": "ok",
     "timestamp": 1672140931118,
     "user": {
      "displayName": "V Ravindhar Reddy",
      "userId": "01262237436482801696"
     },
     "user_tz": -60
    },
    "id": "_ILUGKsSYzAQ"
   },
   "outputs": [],
   "source": [
    "def get_title(item_box):\n",
    "  title_tag = item_box.find_elements(By.CLASS_NAME, 'modelInfo')\n",
    "  title = title_tag[0].find_elements(By.TAG_NAME, 'a')[0].text\n",
    "\n",
    "  return title"
   ]
  },
  {
   "cell_type": "markdown",
   "metadata": {
    "id": "eklYLbN49tY5"
   },
   "source": [
    "![](https://imgur.com/ahZdk88.png)"
   ]
  },
  {
   "cell_type": "code",
   "execution_count": 19,
   "metadata": {
    "colab": {
     "base_uri": "https://localhost:8080/",
     "height": 36
    },
    "executionInfo": {
     "elapsed": 325,
     "status": "ok",
     "timestamp": 1672140931437,
     "user": {
      "displayName": "V Ravindhar Reddy",
      "userId": "01262237436482801696"
     },
     "user_tz": -60
    },
    "id": "0btXfuiQRrhT",
    "outputId": "fc699ab1-b5c7-4264-a902-176077422ec6"
   },
   "outputs": [
    {
     "data": {
      "application/vnd.google.colaboratory.intrinsic+json": {
       "type": "string"
      },
      "text/plain": [
       "'Artsy - Core-XY 3d printe...'"
      ]
     },
     "execution_count": 19,
     "metadata": {},
     "output_type": "execute_result"
    }
   ],
   "source": [
    "get_title(item_box[2])"
   ]
  },
  {
   "cell_type": "code",
   "execution_count": 20,
   "metadata": {
    "colab": {
     "base_uri": "https://localhost:8080/"
    },
    "executionInfo": {
     "elapsed": 735,
     "status": "ok",
     "timestamp": 1672140932165,
     "user": {
      "displayName": "V Ravindhar Reddy",
      "userId": "01262237436482801696"
     },
     "user_tz": -60
    },
    "id": "WMGido97i5Yc",
    "outputId": "df1e6889-a7e9-4c23-f4a1-cff5d74e3f5b"
   },
   "outputs": [
    {
     "name": "stdout",
     "output_type": "stream",
     "text": [
      "BIQU H2 V2s lite\n",
      "Artsy - Core-XY 3d printe...\n",
      "2 Axis FPV Camera Gimbal\n",
      "3D printer Duet 2 Wi-Fi W...\n"
     ]
    }
   ],
   "source": [
    "# print first 4 cad_model titles\n",
    "for i in item_box[1:5]:\n",
    "  print(get_title(i))"
   ]
  },
  {
   "cell_type": "markdown",
   "metadata": {
    "id": "AX2e11wzP5OC"
   },
   "source": [
    "## 2. Parsing Author_name of model"
   ]
  },
  {
   "cell_type": "code",
   "execution_count": 21,
   "metadata": {
    "executionInfo": {
     "elapsed": 11,
     "status": "ok",
     "timestamp": 1672140932166,
     "user": {
      "displayName": "V Ravindhar Reddy",
      "userId": "01262237436482801696"
     },
     "user_tz": -60
    },
    "id": "Mky2pEgdOW8R"
   },
   "outputs": [],
   "source": [
    "def get_author(item_box):\n",
    "  author_tag = item_box.find_elements(By.CLASS_NAME, 'author')\n",
    "  \n",
    "  author = author_tag[0].find_elements(By.TAG_NAME, 'a')[0].text\n",
    "\n",
    "  return author\n",
    "\n",
    "  "
   ]
  },
  {
   "cell_type": "markdown",
   "metadata": {
    "id": "2_-sGNQX_c2w"
   },
   "source": [
    "![](https://imgur.com/1jGrGxK.png)"
   ]
  },
  {
   "cell_type": "code",
   "execution_count": 22,
   "metadata": {
    "colab": {
     "base_uri": "https://localhost:8080/",
     "height": 36
    },
    "executionInfo": {
     "elapsed": 11,
     "status": "ok",
     "timestamp": 1672140932167,
     "user": {
      "displayName": "V Ravindhar Reddy",
      "userId": "01262237436482801696"
     },
     "user_tz": -60
    },
    "id": "F57dmW3TOWo-",
    "outputId": "e34e86b1-9099-433a-9662-6f9516b19c53"
   },
   "outputs": [
    {
     "data": {
      "application/vnd.google.colaboratory.intrinsic+json": {
       "type": "string"
      },
      "text/plain": [
       "'Anders Wedin'"
      ]
     },
     "execution_count": 22,
     "metadata": {},
     "output_type": "execute_result"
    }
   ],
   "source": [
    "get_author(item_box[2])"
   ]
  },
  {
   "cell_type": "code",
   "execution_count": 23,
   "metadata": {
    "colab": {
     "base_uri": "https://localhost:8080/"
    },
    "executionInfo": {
     "elapsed": 231,
     "status": "ok",
     "timestamp": 1672140932389,
     "user": {
      "displayName": "V Ravindhar Reddy",
      "userId": "01262237436482801696"
     },
     "user_tz": -60
    },
    "id": "46XHoLfCQCYE",
    "outputId": "1c889de5-8f51-4743-8dbf-1fbcac8b231e"
   },
   "outputs": [
    {
     "name": "stdout",
     "output_type": "stream",
     "text": [
      "max morozov\n",
      "Anders Wedin\n",
      "Felipe Westin\n",
      "Zhenya Danilau\n"
     ]
    }
   ],
   "source": [
    "# print few cad_model Author names\n",
    "for i in item_box[1:5]:\n",
    "  print(get_author(i))"
   ]
  },
  {
   "cell_type": "markdown",
   "metadata": {
    "id": "4A4flCMIecF2"
   },
   "source": [
    "## 3. Parse URL of the particular item_box"
   ]
  },
  {
   "cell_type": "code",
   "execution_count": 24,
   "metadata": {
    "executionInfo": {
     "elapsed": 3,
     "status": "ok",
     "timestamp": 1672140932390,
     "user": {
      "displayName": "V Ravindhar Reddy",
      "userId": "01262237436482801696"
     },
     "user_tz": -60
    },
    "id": "UIhit-XdejDP"
   },
   "outputs": [],
   "source": [
    "def get_url(item_box):\n",
    " \n",
    "  url_tag = item_box.find_element(By.CLASS_NAME, 'modelLink')\n",
    "  url = url_tag.get_attribute('href')\n",
    "\n",
    "  return url\n",
    "  "
   ]
  },
  {
   "cell_type": "markdown",
   "metadata": {
    "id": "GDDCivBnAEvx"
   },
   "source": [
    "![](https://imgur.com/fsfvW3m.png)"
   ]
  },
  {
   "cell_type": "code",
   "execution_count": 25,
   "metadata": {
    "colab": {
     "base_uri": "https://localhost:8080/",
     "height": 36
    },
    "executionInfo": {
     "elapsed": 547,
     "status": "ok",
     "timestamp": 1672140932934,
     "user": {
      "displayName": "V Ravindhar Reddy",
      "userId": "01262237436482801696"
     },
     "user_tz": -60
    },
    "id": "ymIVAxlqitph",
    "outputId": "266d2f16-a658-4af2-b737-805db38f8cd8"
   },
   "outputs": [
    {
     "data": {
      "application/vnd.google.colaboratory.intrinsic+json": {
       "type": "string"
      },
      "text/plain": [
       "'https://grabcad.com/library/artsy-core-xy-3d-printer-1'"
      ]
     },
     "execution_count": 25,
     "metadata": {},
     "output_type": "execute_result"
    }
   ],
   "source": [
    "get_url(item_box[2])"
   ]
  },
  {
   "cell_type": "code",
   "execution_count": 26,
   "metadata": {
    "colab": {
     "base_uri": "https://localhost:8080/"
    },
    "executionInfo": {
     "elapsed": 9,
     "status": "ok",
     "timestamp": 1672140932935,
     "user": {
      "displayName": "V Ravindhar Reddy",
      "userId": "01262237436482801696"
     },
     "user_tz": -60
    },
    "id": "Ci_93hdaekT9",
    "outputId": "db02e970-8220-449b-822a-9eeb0303678d"
   },
   "outputs": [
    {
     "name": "stdout",
     "output_type": "stream",
     "text": [
      "https://grabcad.com/library/biqu-h2-v2s-lite-1\n",
      "https://grabcad.com/library/artsy-core-xy-3d-printer-1\n",
      "https://grabcad.com/library/2-axis-fpv-camera-gimbal-1\n",
      "https://grabcad.com/library/3d-printer-duet-2-wi-fi-with-2-extruders-1\n"
     ]
    }
   ],
   "source": [
    "# Print first 4 model URLS\n",
    "for i in item_box[1:5]:\n",
    "  print(get_url(i))"
   ]
  },
  {
   "cell_type": "markdown",
   "metadata": {
    "id": "1RtcqZ-FhBJF"
   },
   "source": [
    "## 4. Parsing item Image_URL"
   ]
  },
  {
   "cell_type": "code",
   "execution_count": 27,
   "metadata": {
    "executionInfo": {
     "elapsed": 13,
     "status": "ok",
     "timestamp": 1672140933189,
     "user": {
      "displayName": "V Ravindhar Reddy",
      "userId": "01262237436482801696"
     },
     "user_tz": -60
    },
    "id": "Asw_BBaAeYpH"
   },
   "outputs": [],
   "source": [
    "def get_image(item_box):\n",
    " \n",
    "  image_tag = item_box.find_element(By.CLASS_NAME, 'previewImage')\n",
    "  image = image_tag.get_attribute('src')\n",
    "  \n",
    "\n",
    "  return image"
   ]
  },
  {
   "cell_type": "markdown",
   "metadata": {
    "id": "5Lo5MmZ8CONc"
   },
   "source": [
    "![](https://imgur.com/r1Lo1rB.png)"
   ]
  },
  {
   "cell_type": "code",
   "execution_count": 28,
   "metadata": {
    "colab": {
     "base_uri": "https://localhost:8080/",
     "height": 36
    },
    "executionInfo": {
     "elapsed": 12,
     "status": "ok",
     "timestamp": 1672140933189,
     "user": {
      "displayName": "V Ravindhar Reddy",
      "userId": "01262237436482801696"
     },
     "user_tz": -60
    },
    "id": "itamh-hXjJ76",
    "outputId": "88e16296-f61a-41c5-f0eb-2f824b4cd20d"
   },
   "outputs": [
    {
     "data": {
      "application/vnd.google.colaboratory.intrinsic+json": {
       "type": "string"
      },
      "text/plain": [
       "'https://d2t1xqejof9utc.cloudfront.net/screenshots/pics/9681206263ef841812ebe556389f605e/card.jpg'"
      ]
     },
     "execution_count": 28,
     "metadata": {},
     "output_type": "execute_result"
    }
   ],
   "source": [
    "get_image(item_box[2])"
   ]
  },
  {
   "cell_type": "code",
   "execution_count": 29,
   "metadata": {
    "colab": {
     "base_uri": "https://localhost:8080/"
    },
    "executionInfo": {
     "elapsed": 12,
     "status": "ok",
     "timestamp": 1672140933190,
     "user": {
      "displayName": "V Ravindhar Reddy",
      "userId": "01262237436482801696"
     },
     "user_tz": -60
    },
    "id": "X0xg7MvUeYhV",
    "outputId": "eea00442-2020-4afa-f1e2-01b6c542ffce"
   },
   "outputs": [
    {
     "name": "stdout",
     "output_type": "stream",
     "text": [
      "https://d2t1xqejof9utc.cloudfront.net/screenshots/pics/9f40f8e3a8d8f36f8456aab6bd3e8835/card.jpg\n",
      "https://d2t1xqejof9utc.cloudfront.net/screenshots/pics/9681206263ef841812ebe556389f605e/card.jpg\n",
      "https://d2t1xqejof9utc.cloudfront.net/screenshots/pics/fd098865c35fe402516aa962af62532d/card.jpg\n",
      "https://d2t1xqejof9utc.cloudfront.net/screenshots/pics/b0c57a2c3158ef1e9eb9ddf080636fe1/card.jpg\n"
     ]
    }
   ],
   "source": [
    "# print first 4 image URLS\n",
    "for i in item_box[1:5]:\n",
    "  print(get_image(i))"
   ]
  },
  {
   "cell_type": "markdown",
   "metadata": {
    "id": "f5rP4P_liwAM"
   },
   "source": [
    "## 5. Parse number of Likes"
   ]
  },
  {
   "cell_type": "code",
   "execution_count": 30,
   "metadata": {
    "executionInfo": {
     "elapsed": 10,
     "status": "ok",
     "timestamp": 1672140933190,
     "user": {
      "displayName": "V Ravindhar Reddy",
      "userId": "01262237436482801696"
     },
     "user_tz": -60
    },
    "id": "8tSXSgQLzJ6L"
   },
   "outputs": [],
   "source": [
    "def get_likes(item_box):\n",
    "  count_tag = item_box.find_elements(By.CLASS_NAME, 'counts')\n",
    "  like = count_tag[0].find_elements(By.TAG_NAME, 'span')[0].text\n",
    "\n",
    "  return like"
   ]
  },
  {
   "cell_type": "markdown",
   "metadata": {
    "id": "TtMNt8-hC8VS"
   },
   "source": [
    "![](https://imgur.com/eFmwB2p.png)"
   ]
  },
  {
   "cell_type": "code",
   "execution_count": 31,
   "metadata": {
    "colab": {
     "base_uri": "https://localhost:8080/",
     "height": 36
    },
    "executionInfo": {
     "elapsed": 11,
     "status": "ok",
     "timestamp": 1672140933191,
     "user": {
      "displayName": "V Ravindhar Reddy",
      "userId": "01262237436482801696"
     },
     "user_tz": -60
    },
    "id": "EQeI8EO0jdMn",
    "outputId": "3512e6e3-5284-4dfe-9d24-ed8c6063729a"
   },
   "outputs": [
    {
     "data": {
      "application/vnd.google.colaboratory.intrinsic+json": {
       "type": "string"
      },
      "text/plain": [
       "'60'"
      ]
     },
     "execution_count": 31,
     "metadata": {},
     "output_type": "execute_result"
    }
   ],
   "source": [
    "get_likes(item_box[5])"
   ]
  },
  {
   "cell_type": "code",
   "execution_count": 32,
   "metadata": {
    "colab": {
     "base_uri": "https://localhost:8080/"
    },
    "executionInfo": {
     "elapsed": 285,
     "status": "ok",
     "timestamp": 1672140933466,
     "user": {
      "displayName": "V Ravindhar Reddy",
      "userId": "01262237436482801696"
     },
     "user_tz": -60
    },
    "id": "Q2wLvisDeYO5",
    "outputId": "f7407a4d-5740-45f9-a0f4-cc352e6537a8"
   },
   "outputs": [
    {
     "name": "stdout",
     "output_type": "stream",
     "text": [
      "Likes: 35\n",
      "Likes: 48\n",
      "Likes: 35\n",
      "Likes: 92\n"
     ]
    }
   ],
   "source": [
    "# print firs 4 models count of likes\n",
    "for i in item_box[1:5]:\n",
    "  print(f'Likes: {get_likes(i)}')"
   ]
  },
  {
   "cell_type": "markdown",
   "metadata": {
    "id": "uJK32pm-yz98"
   },
   "source": [
    "## 6. Parse number of Downloads"
   ]
  },
  {
   "cell_type": "code",
   "execution_count": 33,
   "metadata": {
    "executionInfo": {
     "elapsed": 258,
     "status": "ok",
     "timestamp": 1672140933723,
     "user": {
      "displayName": "V Ravindhar Reddy",
      "userId": "01262237436482801696"
     },
     "user_tz": -60
    },
    "id": "oH5KhuqseX4Y"
   },
   "outputs": [],
   "source": [
    "def get_downloads(item_box):\n",
    "  count_tag = item_box.find_elements(By.CLASS_NAME, 'counts')\n",
    "\n",
    "  for downloads in count_tag:\n",
    "    download = downloads.find_elements(By.TAG_NAME, 'span')[3].text\n",
    "\n",
    "  return download\n"
   ]
  },
  {
   "cell_type": "markdown",
   "metadata": {
    "id": "mZkC00MADdaB"
   },
   "source": [
    "![](https://imgur.com/kUPBJ0r.png)"
   ]
  },
  {
   "cell_type": "code",
   "execution_count": 34,
   "metadata": {
    "colab": {
     "base_uri": "https://localhost:8080/",
     "height": 36
    },
    "executionInfo": {
     "elapsed": 11,
     "status": "ok",
     "timestamp": 1672140933724,
     "user": {
      "displayName": "V Ravindhar Reddy",
      "userId": "01262237436482801696"
     },
     "user_tz": -60
    },
    "id": "zJWJu96AlQqH",
    "outputId": "673d6b9e-40c4-4c6d-d1e4-615929582606"
   },
   "outputs": [
    {
     "data": {
      "application/vnd.google.colaboratory.intrinsic+json": {
       "type": "string"
      },
      "text/plain": [
       "'188'"
      ]
     },
     "execution_count": 34,
     "metadata": {},
     "output_type": "execute_result"
    }
   ],
   "source": [
    "get_downloads(item_box[5])"
   ]
  },
  {
   "cell_type": "code",
   "execution_count": 35,
   "metadata": {
    "colab": {
     "base_uri": "https://localhost:8080/"
    },
    "executionInfo": {
     "elapsed": 306,
     "status": "ok",
     "timestamp": 1672140934021,
     "user": {
      "displayName": "V Ravindhar Reddy",
      "userId": "01262237436482801696"
     },
     "user_tz": -60
    },
    "id": "YDqgY3uxeXoD",
    "outputId": "176cf730-7d92-43a2-9e5d-6aab3a396bee"
   },
   "outputs": [
    {
     "name": "stdout",
     "output_type": "stream",
     "text": [
      "Downloads : 143\n",
      "Downloads : 224\n",
      "Downloads : 161\n",
      "Downloads : 384\n"
     ]
    }
   ],
   "source": [
    "# print few models count of downloads\n",
    "for i in item_box[1:5]:\n",
    "  print(f'Downloads : {get_downloads(i)}')"
   ]
  },
  {
   "cell_type": "markdown",
   "metadata": {
    "id": "GcFpbSs80XjY"
   },
   "source": [
    "## 7. Parse number of Comments"
   ]
  },
  {
   "cell_type": "code",
   "execution_count": 36,
   "metadata": {
    "executionInfo": {
     "elapsed": 6,
     "status": "ok",
     "timestamp": 1672140934021,
     "user": {
      "displayName": "V Ravindhar Reddy",
      "userId": "01262237436482801696"
     },
     "user_tz": -60
    },
    "id": "vhsJ4irb0WwL"
   },
   "outputs": [],
   "source": [
    "def get_comments(item_box):\n",
    "  count_tag = item_box.find_elements(By.CLASS_NAME, 'counts')\n",
    "  comment = count_tag[0].find_elements(By.TAG_NAME, 'a')[0].text\n",
    "\n",
    "  return comment\n",
    "\n",
    "\n"
   ]
  },
  {
   "cell_type": "markdown",
   "metadata": {
    "id": "vTaDhkBpD-Gx"
   },
   "source": [
    "![](https://imgur.com/aoZOPnm.png)"
   ]
  },
  {
   "cell_type": "code",
   "execution_count": 37,
   "metadata": {
    "colab": {
     "base_uri": "https://localhost:8080/",
     "height": 36
    },
    "executionInfo": {
     "elapsed": 6,
     "status": "ok",
     "timestamp": 1672140934022,
     "user": {
      "displayName": "V Ravindhar Reddy",
      "userId": "01262237436482801696"
     },
     "user_tz": -60
    },
    "id": "FVJ4_a_Wk2pU",
    "outputId": "6659a2ae-3012-4fa7-940f-cc1c92e9a0db"
   },
   "outputs": [
    {
     "data": {
      "application/vnd.google.colaboratory.intrinsic+json": {
       "type": "string"
      },
      "text/plain": [
       "'4'"
      ]
     },
     "execution_count": 37,
     "metadata": {},
     "output_type": "execute_result"
    }
   ],
   "source": [
    "get_comments(item_box[2])"
   ]
  },
  {
   "cell_type": "code",
   "execution_count": 38,
   "metadata": {
    "colab": {
     "base_uri": "https://localhost:8080/"
    },
    "executionInfo": {
     "elapsed": 310,
     "status": "ok",
     "timestamp": 1672140934327,
     "user": {
      "displayName": "V Ravindhar Reddy",
      "userId": "01262237436482801696"
     },
     "user_tz": -60
    },
    "id": "O2RqZykq0V35",
    "outputId": "2ea8b5c2-d8ff-4e9a-f727-062b570f014d"
   },
   "outputs": [
    {
     "name": "stdout",
     "output_type": "stream",
     "text": [
      "Comments : 1\n",
      "Comments : 4\n",
      "Comments : 2\n",
      "Comments : 6\n"
     ]
    }
   ],
   "source": [
    "# print first four count of comments\n",
    "for i in item_box[1:5]:\n",
    "  print(f'Comments : {get_comments(i)}')"
   ]
  },
  {
   "cell_type": "markdown",
   "metadata": {
    "id": "ZRcAKqjn72Tl"
   },
   "source": [
    "# Write parsed data into a list of dictionary\n"
   ]
  },
  {
   "cell_type": "markdown",
   "metadata": {
    "id": "V31mgKZb1Thp"
   },
   "source": [
    "`parse_cad_data` function can be used to write the scraped data into a list of dictionaries"
   ]
  },
  {
   "cell_type": "code",
   "execution_count": 39,
   "metadata": {
    "executionInfo": {
     "elapsed": 8,
     "status": "ok",
     "timestamp": 1672140934330,
     "user": {
      "displayName": "V Ravindhar Reddy",
      "userId": "01262237436482801696"
     },
     "user_tz": -60
    },
    "id": "M_rCQan2eOCi"
   },
   "outputs": [],
   "source": [
    "def get_pages_data():\n",
    "  pages = get_page_urls()\n",
    "  cad_models = {'Title':[],\n",
    "                'Author':[],\n",
    "                'URL':[],\n",
    "                'Image_URL':[],\n",
    "                'Likes':[],\n",
    "                'Downloads':[],\n",
    "                'Comments':[]\n",
    "                }\n",
    "  for i in pages:\n",
    "    item_boxes = get_files(i, wd)\n",
    "    for item_box in item_boxes[1:]:\n",
    "\n",
    "      WebDriverWait(wd, 30).until(EC.visibility_of_all_elements_located((By.XPATH, \"//span[@class='text ng-binding']\")))\n",
    "      \n",
    "      cad_models['Title'].append(get_title(item_box))\n",
    "      cad_models['Author'].append(get_author(item_box))\n",
    "      cad_models['URL'].append(get_url(item_box))\n",
    "      cad_models['Image_URL'].append(get_image(item_box))\n",
    "      cad_models['Likes'].append(get_likes(item_box))\n",
    "      cad_models['Downloads'].append(get_downloads(item_box))\n",
    "      cad_models['Comments'].append(get_comments(item_box))\n",
    "      \n",
    "\n",
    "  return cad_models\n",
    "\n",
    "\n"
   ]
  },
  {
   "cell_type": "code",
   "execution_count": 40,
   "metadata": {
    "colab": {
     "base_uri": "https://localhost:8080/",
     "height": 448
    },
    "executionInfo": {
     "elapsed": 1643212,
     "status": "error",
     "timestamp": 1672142577535,
     "user": {
      "displayName": "V Ravindhar Reddy",
      "userId": "01262237436482801696"
     },
     "user_tz": -60
    },
    "id": "5YSsaYVahrJs",
    "outputId": "b3463549-4d8b-4039-8fa5-0d564a65dd46"
   },
   "outputs": [
    {
     "ename": "KeyboardInterrupt",
     "evalue": "ignored",
     "output_type": "error",
     "traceback": [
      "\u001b[0;31m---------------------------------------------------------------------------\u001b[0m",
      "\u001b[0;31mTypeError\u001b[0m                                 Traceback (most recent call last)",
      "\u001b[0;32m/usr/local/lib/python3.8/dist-packages/urllib3/connectionpool.py\u001b[0m in \u001b[0;36m_make_request\u001b[0;34m(self, conn, method, url, timeout, chunked, **httplib_request_kw)\u001b[0m\n\u001b[1;32m    376\u001b[0m             \u001b[0mcontrol\u001b[0m \u001b[0mover\u001b[0m \u001b[0myour\u001b[0m \u001b[0mtimeouts\u001b[0m\u001b[0;34m.\u001b[0m\u001b[0;34m\u001b[0m\u001b[0;34m\u001b[0m\u001b[0m\n\u001b[0;32m--> 377\u001b[0;31m         \"\"\"\n\u001b[0m\u001b[1;32m    378\u001b[0m         \u001b[0mself\u001b[0m\u001b[0;34m.\u001b[0m\u001b[0mnum_requests\u001b[0m \u001b[0;34m+=\u001b[0m \u001b[0;36m1\u001b[0m\u001b[0;34m\u001b[0m\u001b[0;34m\u001b[0m\u001b[0m\n",
      "\u001b[0;31mTypeError\u001b[0m: getresponse() got an unexpected keyword argument 'buffering'",
      "\nDuring handling of the above exception, another exception occurred:\n",
      "\u001b[0;31mKeyboardInterrupt\u001b[0m                         Traceback (most recent call last)",
      "\u001b[0;32m<ipython-input-40-af9c78371cd0>\u001b[0m in \u001b[0;36m<module>\u001b[0;34m\u001b[0m\n\u001b[0;32m----> 1\u001b[0;31m \u001b[0mfinal_data\u001b[0m \u001b[0;34m=\u001b[0m \u001b[0mget_pages_data\u001b[0m\u001b[0;34m(\u001b[0m\u001b[0;34m)\u001b[0m\u001b[0;34m\u001b[0m\u001b[0;34m\u001b[0m\u001b[0m\n\u001b[0m\u001b[1;32m      2\u001b[0m \u001b[0mfinal_data\u001b[0m\u001b[0;34m\u001b[0m\u001b[0;34m\u001b[0m\u001b[0m\n",
      "\u001b[0;32m<ipython-input-39-9de5eaa08e2c>\u001b[0m in \u001b[0;36mget_pages_data\u001b[0;34m()\u001b[0m\n\u001b[1;32m     13\u001b[0m     \u001b[0;32mfor\u001b[0m \u001b[0mitem_box\u001b[0m \u001b[0;32min\u001b[0m \u001b[0mitem_boxes\u001b[0m\u001b[0;34m[\u001b[0m\u001b[0;36m1\u001b[0m\u001b[0;34m:\u001b[0m\u001b[0;34m]\u001b[0m\u001b[0;34m:\u001b[0m\u001b[0;34m\u001b[0m\u001b[0;34m\u001b[0m\u001b[0m\n\u001b[1;32m     14\u001b[0m \u001b[0;34m\u001b[0m\u001b[0m\n\u001b[0;32m---> 15\u001b[0;31m       \u001b[0mWebDriverWait\u001b[0m\u001b[0;34m(\u001b[0m\u001b[0mwd\u001b[0m\u001b[0;34m,\u001b[0m \u001b[0;36m30\u001b[0m\u001b[0;34m)\u001b[0m\u001b[0;34m.\u001b[0m\u001b[0muntil\u001b[0m\u001b[0;34m(\u001b[0m\u001b[0mEC\u001b[0m\u001b[0;34m.\u001b[0m\u001b[0mvisibility_of_all_elements_located\u001b[0m\u001b[0;34m(\u001b[0m\u001b[0;34m(\u001b[0m\u001b[0mBy\u001b[0m\u001b[0;34m.\u001b[0m\u001b[0mXPATH\u001b[0m\u001b[0;34m,\u001b[0m \u001b[0;34m\"//span[@class='text ng-binding']\"\u001b[0m\u001b[0;34m)\u001b[0m\u001b[0;34m)\u001b[0m\u001b[0;34m)\u001b[0m\u001b[0;34m\u001b[0m\u001b[0;34m\u001b[0m\u001b[0m\n\u001b[0m\u001b[1;32m     16\u001b[0m \u001b[0;34m\u001b[0m\u001b[0m\n\u001b[1;32m     17\u001b[0m       \u001b[0mcad_models\u001b[0m\u001b[0;34m[\u001b[0m\u001b[0;34m'Title'\u001b[0m\u001b[0;34m]\u001b[0m\u001b[0;34m.\u001b[0m\u001b[0mappend\u001b[0m\u001b[0;34m(\u001b[0m\u001b[0mget_title\u001b[0m\u001b[0;34m(\u001b[0m\u001b[0mitem_box\u001b[0m\u001b[0;34m)\u001b[0m\u001b[0;34m)\u001b[0m\u001b[0;34m\u001b[0m\u001b[0;34m\u001b[0m\u001b[0m\n",
      "\u001b[0;32m/usr/local/lib/python3.8/dist-packages/selenium/webdriver/support/wait.py\u001b[0m in \u001b[0;36muntil\u001b[0;34m(self, method, message)\u001b[0m\n\u001b[1;32m     84\u001b[0m         \u001b[0;32mwhile\u001b[0m \u001b[0;32mTrue\u001b[0m\u001b[0;34m:\u001b[0m\u001b[0;34m\u001b[0m\u001b[0;34m\u001b[0m\u001b[0m\n\u001b[1;32m     85\u001b[0m             \u001b[0;32mtry\u001b[0m\u001b[0;34m:\u001b[0m\u001b[0;34m\u001b[0m\u001b[0;34m\u001b[0m\u001b[0m\n\u001b[0;32m---> 86\u001b[0;31m                 \u001b[0mvalue\u001b[0m \u001b[0;34m=\u001b[0m \u001b[0mmethod\u001b[0m\u001b[0;34m(\u001b[0m\u001b[0mself\u001b[0m\u001b[0;34m.\u001b[0m\u001b[0m_driver\u001b[0m\u001b[0;34m)\u001b[0m\u001b[0;34m\u001b[0m\u001b[0;34m\u001b[0m\u001b[0m\n\u001b[0m\u001b[1;32m     87\u001b[0m                 \u001b[0;32mif\u001b[0m \u001b[0mvalue\u001b[0m\u001b[0;34m:\u001b[0m\u001b[0;34m\u001b[0m\u001b[0;34m\u001b[0m\u001b[0m\n\u001b[1;32m     88\u001b[0m                     \u001b[0;32mreturn\u001b[0m \u001b[0mvalue\u001b[0m\u001b[0;34m\u001b[0m\u001b[0;34m\u001b[0m\u001b[0m\n",
      "\u001b[0;32m/usr/local/lib/python3.8/dist-packages/selenium/webdriver/support/expected_conditions.py\u001b[0m in \u001b[0;36m_predicate\u001b[0;34m(driver)\u001b[0m\n\u001b[1;32m    186\u001b[0m             \u001b[0melements\u001b[0m \u001b[0;34m=\u001b[0m \u001b[0mdriver\u001b[0m\u001b[0;34m.\u001b[0m\u001b[0mfind_elements\u001b[0m\u001b[0;34m(\u001b[0m\u001b[0;34m*\u001b[0m\u001b[0mlocator\u001b[0m\u001b[0;34m)\u001b[0m\u001b[0;34m\u001b[0m\u001b[0;34m\u001b[0m\u001b[0m\n\u001b[1;32m    187\u001b[0m             \u001b[0;32mfor\u001b[0m \u001b[0melement\u001b[0m \u001b[0;32min\u001b[0m \u001b[0melements\u001b[0m\u001b[0;34m:\u001b[0m\u001b[0;34m\u001b[0m\u001b[0;34m\u001b[0m\u001b[0m\n\u001b[0;32m--> 188\u001b[0;31m                 \u001b[0;32mif\u001b[0m \u001b[0m_element_if_visible\u001b[0m\u001b[0;34m(\u001b[0m\u001b[0melement\u001b[0m\u001b[0;34m,\u001b[0m \u001b[0mvisibility\u001b[0m\u001b[0;34m=\u001b[0m\u001b[0;32mFalse\u001b[0m\u001b[0;34m)\u001b[0m\u001b[0;34m:\u001b[0m\u001b[0;34m\u001b[0m\u001b[0;34m\u001b[0m\u001b[0m\n\u001b[0m\u001b[1;32m    189\u001b[0m                     \u001b[0;32mreturn\u001b[0m \u001b[0;32mFalse\u001b[0m\u001b[0;34m\u001b[0m\u001b[0;34m\u001b[0m\u001b[0m\n\u001b[1;32m    190\u001b[0m             \u001b[0;32mreturn\u001b[0m \u001b[0melements\u001b[0m\u001b[0;34m\u001b[0m\u001b[0;34m\u001b[0m\u001b[0m\n",
      "\u001b[0;32m/usr/local/lib/python3.8/dist-packages/selenium/webdriver/support/expected_conditions.py\u001b[0m in \u001b[0;36m_element_if_visible\u001b[0;34m(element, visibility)\u001b[0m\n\u001b[1;32m    145\u001b[0m \u001b[0;34m\u001b[0m\u001b[0m\n\u001b[1;32m    146\u001b[0m \u001b[0;32mdef\u001b[0m \u001b[0m_element_if_visible\u001b[0m\u001b[0;34m(\u001b[0m\u001b[0melement\u001b[0m\u001b[0;34m,\u001b[0m \u001b[0mvisibility\u001b[0m\u001b[0;34m=\u001b[0m\u001b[0;32mTrue\u001b[0m\u001b[0;34m)\u001b[0m\u001b[0;34m:\u001b[0m\u001b[0;34m\u001b[0m\u001b[0;34m\u001b[0m\u001b[0m\n\u001b[0;32m--> 147\u001b[0;31m     \u001b[0;32mreturn\u001b[0m \u001b[0melement\u001b[0m \u001b[0;32mif\u001b[0m \u001b[0melement\u001b[0m\u001b[0;34m.\u001b[0m\u001b[0mis_displayed\u001b[0m\u001b[0;34m(\u001b[0m\u001b[0;34m)\u001b[0m \u001b[0;34m==\u001b[0m \u001b[0mvisibility\u001b[0m \u001b[0;32melse\u001b[0m \u001b[0;32mFalse\u001b[0m\u001b[0;34m\u001b[0m\u001b[0;34m\u001b[0m\u001b[0m\n\u001b[0m\u001b[1;32m    148\u001b[0m \u001b[0;34m\u001b[0m\u001b[0m\n\u001b[1;32m    149\u001b[0m \u001b[0;34m\u001b[0m\u001b[0m\n",
      "\u001b[0;32m/usr/local/lib/python3.8/dist-packages/selenium/webdriver/remote/webelement.py\u001b[0m in \u001b[0;36mis_displayed\u001b[0;34m(self)\u001b[0m\n\u001b[1;32m    262\u001b[0m         \u001b[0;32mif\u001b[0m \u001b[0misDisplayed_js\u001b[0m \u001b[0;32mis\u001b[0m \u001b[0;32mNone\u001b[0m\u001b[0;34m:\u001b[0m\u001b[0;34m\u001b[0m\u001b[0;34m\u001b[0m\u001b[0m\n\u001b[1;32m    263\u001b[0m             \u001b[0m_load_js\u001b[0m\u001b[0;34m(\u001b[0m\u001b[0;34m)\u001b[0m\u001b[0;34m\u001b[0m\u001b[0;34m\u001b[0m\u001b[0m\n\u001b[0;32m--> 264\u001b[0;31m         \u001b[0;32mreturn\u001b[0m \u001b[0mself\u001b[0m\u001b[0;34m.\u001b[0m\u001b[0mparent\u001b[0m\u001b[0;34m.\u001b[0m\u001b[0mexecute_script\u001b[0m\u001b[0;34m(\u001b[0m\u001b[0;34m\"return (%s).apply(null, arguments);\"\u001b[0m \u001b[0;34m%\u001b[0m \u001b[0misDisplayed_js\u001b[0m\u001b[0;34m,\u001b[0m \u001b[0mself\u001b[0m\u001b[0;34m)\u001b[0m\u001b[0;34m\u001b[0m\u001b[0;34m\u001b[0m\u001b[0m\n\u001b[0m\u001b[1;32m    265\u001b[0m \u001b[0;34m\u001b[0m\u001b[0m\n\u001b[1;32m    266\u001b[0m     \u001b[0;34m@\u001b[0m\u001b[0mproperty\u001b[0m\u001b[0;34m\u001b[0m\u001b[0;34m\u001b[0m\u001b[0m\n",
      "\u001b[0;32m/usr/local/lib/python3.8/dist-packages/selenium/webdriver/remote/webdriver.py\u001b[0m in \u001b[0;36mexecute_script\u001b[0;34m(self, script, *args)\u001b[0m\n\u001b[1;32m    504\u001b[0m         \u001b[0mcommand\u001b[0m \u001b[0;34m=\u001b[0m \u001b[0mCommand\u001b[0m\u001b[0;34m.\u001b[0m\u001b[0mW3C_EXECUTE_SCRIPT\u001b[0m\u001b[0;34m\u001b[0m\u001b[0;34m\u001b[0m\u001b[0m\n\u001b[1;32m    505\u001b[0m \u001b[0;34m\u001b[0m\u001b[0m\n\u001b[0;32m--> 506\u001b[0;31m         \u001b[0;32mreturn\u001b[0m \u001b[0mself\u001b[0m\u001b[0;34m.\u001b[0m\u001b[0mexecute\u001b[0m\u001b[0;34m(\u001b[0m\u001b[0mcommand\u001b[0m\u001b[0;34m,\u001b[0m \u001b[0;34m{\u001b[0m\u001b[0;34m\"script\"\u001b[0m\u001b[0;34m:\u001b[0m \u001b[0mscript\u001b[0m\u001b[0;34m,\u001b[0m \u001b[0;34m\"args\"\u001b[0m\u001b[0;34m:\u001b[0m \u001b[0mconverted_args\u001b[0m\u001b[0;34m}\u001b[0m\u001b[0;34m)\u001b[0m\u001b[0;34m[\u001b[0m\u001b[0;34m\"value\"\u001b[0m\u001b[0;34m]\u001b[0m\u001b[0;34m\u001b[0m\u001b[0;34m\u001b[0m\u001b[0m\n\u001b[0m\u001b[1;32m    507\u001b[0m \u001b[0;34m\u001b[0m\u001b[0m\n\u001b[1;32m    508\u001b[0m     \u001b[0;32mdef\u001b[0m \u001b[0mexecute_async_script\u001b[0m\u001b[0;34m(\u001b[0m\u001b[0mself\u001b[0m\u001b[0;34m,\u001b[0m \u001b[0mscript\u001b[0m\u001b[0;34m:\u001b[0m \u001b[0mstr\u001b[0m\u001b[0;34m,\u001b[0m \u001b[0;34m*\u001b[0m\u001b[0margs\u001b[0m\u001b[0;34m)\u001b[0m\u001b[0;34m:\u001b[0m\u001b[0;34m\u001b[0m\u001b[0;34m\u001b[0m\u001b[0m\n",
      "\u001b[0;32m/usr/local/lib/python3.8/dist-packages/selenium/webdriver/remote/webdriver.py\u001b[0m in \u001b[0;36mexecute\u001b[0;34m(self, driver_command, params)\u001b[0m\n\u001b[1;32m    440\u001b[0m                 \u001b[0mparams\u001b[0m\u001b[0;34m[\u001b[0m\u001b[0;34m\"sessionId\"\u001b[0m\u001b[0;34m]\u001b[0m \u001b[0;34m=\u001b[0m \u001b[0mself\u001b[0m\u001b[0;34m.\u001b[0m\u001b[0msession_id\u001b[0m\u001b[0;34m\u001b[0m\u001b[0;34m\u001b[0m\u001b[0m\n\u001b[1;32m    441\u001b[0m \u001b[0;34m\u001b[0m\u001b[0m\n\u001b[0;32m--> 442\u001b[0;31m         \u001b[0mresponse\u001b[0m \u001b[0;34m=\u001b[0m \u001b[0mself\u001b[0m\u001b[0;34m.\u001b[0m\u001b[0mcommand_executor\u001b[0m\u001b[0;34m.\u001b[0m\u001b[0mexecute\u001b[0m\u001b[0;34m(\u001b[0m\u001b[0mdriver_command\u001b[0m\u001b[0;34m,\u001b[0m \u001b[0mparams\u001b[0m\u001b[0;34m)\u001b[0m\u001b[0;34m\u001b[0m\u001b[0;34m\u001b[0m\u001b[0m\n\u001b[0m\u001b[1;32m    443\u001b[0m         \u001b[0;32mif\u001b[0m \u001b[0mresponse\u001b[0m\u001b[0;34m:\u001b[0m\u001b[0;34m\u001b[0m\u001b[0;34m\u001b[0m\u001b[0m\n\u001b[1;32m    444\u001b[0m             \u001b[0mself\u001b[0m\u001b[0;34m.\u001b[0m\u001b[0merror_handler\u001b[0m\u001b[0;34m.\u001b[0m\u001b[0mcheck_response\u001b[0m\u001b[0;34m(\u001b[0m\u001b[0mresponse\u001b[0m\u001b[0;34m)\u001b[0m\u001b[0;34m\u001b[0m\u001b[0;34m\u001b[0m\u001b[0m\n",
      "\u001b[0;32m/usr/local/lib/python3.8/dist-packages/selenium/webdriver/remote/remote_connection.py\u001b[0m in \u001b[0;36mexecute\u001b[0;34m(self, command, params)\u001b[0m\n\u001b[1;32m    292\u001b[0m         \u001b[0mdata\u001b[0m \u001b[0;34m=\u001b[0m \u001b[0mutils\u001b[0m\u001b[0;34m.\u001b[0m\u001b[0mdump_json\u001b[0m\u001b[0;34m(\u001b[0m\u001b[0mparams\u001b[0m\u001b[0;34m)\u001b[0m\u001b[0;34m\u001b[0m\u001b[0;34m\u001b[0m\u001b[0m\n\u001b[1;32m    293\u001b[0m         \u001b[0murl\u001b[0m \u001b[0;34m=\u001b[0m \u001b[0;34mf\"{self._url}{path}\"\u001b[0m\u001b[0;34m\u001b[0m\u001b[0;34m\u001b[0m\u001b[0m\n\u001b[0;32m--> 294\u001b[0;31m         \u001b[0;32mreturn\u001b[0m \u001b[0mself\u001b[0m\u001b[0;34m.\u001b[0m\u001b[0m_request\u001b[0m\u001b[0;34m(\u001b[0m\u001b[0mcommand_info\u001b[0m\u001b[0;34m[\u001b[0m\u001b[0;36m0\u001b[0m\u001b[0;34m]\u001b[0m\u001b[0;34m,\u001b[0m \u001b[0murl\u001b[0m\u001b[0;34m,\u001b[0m \u001b[0mbody\u001b[0m\u001b[0;34m=\u001b[0m\u001b[0mdata\u001b[0m\u001b[0;34m)\u001b[0m\u001b[0;34m\u001b[0m\u001b[0;34m\u001b[0m\u001b[0m\n\u001b[0m\u001b[1;32m    295\u001b[0m \u001b[0;34m\u001b[0m\u001b[0m\n\u001b[1;32m    296\u001b[0m     \u001b[0;32mdef\u001b[0m \u001b[0m_request\u001b[0m\u001b[0;34m(\u001b[0m\u001b[0mself\u001b[0m\u001b[0;34m,\u001b[0m \u001b[0mmethod\u001b[0m\u001b[0;34m,\u001b[0m \u001b[0murl\u001b[0m\u001b[0;34m,\u001b[0m \u001b[0mbody\u001b[0m\u001b[0;34m=\u001b[0m\u001b[0;32mNone\u001b[0m\u001b[0;34m)\u001b[0m\u001b[0;34m:\u001b[0m\u001b[0;34m\u001b[0m\u001b[0;34m\u001b[0m\u001b[0m\n",
      "\u001b[0;32m/usr/local/lib/python3.8/dist-packages/selenium/webdriver/remote/remote_connection.py\u001b[0m in \u001b[0;36m_request\u001b[0;34m(self, method, url, body)\u001b[0m\n\u001b[1;32m    314\u001b[0m \u001b[0;34m\u001b[0m\u001b[0m\n\u001b[1;32m    315\u001b[0m         \u001b[0;32mif\u001b[0m \u001b[0mself\u001b[0m\u001b[0;34m.\u001b[0m\u001b[0mkeep_alive\u001b[0m\u001b[0;34m:\u001b[0m\u001b[0;34m\u001b[0m\u001b[0;34m\u001b[0m\u001b[0m\n\u001b[0;32m--> 316\u001b[0;31m             \u001b[0mresponse\u001b[0m \u001b[0;34m=\u001b[0m \u001b[0mself\u001b[0m\u001b[0;34m.\u001b[0m\u001b[0m_conn\u001b[0m\u001b[0;34m.\u001b[0m\u001b[0mrequest\u001b[0m\u001b[0;34m(\u001b[0m\u001b[0mmethod\u001b[0m\u001b[0;34m,\u001b[0m \u001b[0murl\u001b[0m\u001b[0;34m,\u001b[0m \u001b[0mbody\u001b[0m\u001b[0;34m=\u001b[0m\u001b[0mbody\u001b[0m\u001b[0;34m,\u001b[0m \u001b[0mheaders\u001b[0m\u001b[0;34m=\u001b[0m\u001b[0mheaders\u001b[0m\u001b[0;34m)\u001b[0m\u001b[0;34m\u001b[0m\u001b[0;34m\u001b[0m\u001b[0m\n\u001b[0m\u001b[1;32m    317\u001b[0m             \u001b[0mstatuscode\u001b[0m \u001b[0;34m=\u001b[0m \u001b[0mresponse\u001b[0m\u001b[0;34m.\u001b[0m\u001b[0mstatus\u001b[0m\u001b[0;34m\u001b[0m\u001b[0;34m\u001b[0m\u001b[0m\n\u001b[1;32m    318\u001b[0m         \u001b[0;32melse\u001b[0m\u001b[0;34m:\u001b[0m\u001b[0;34m\u001b[0m\u001b[0;34m\u001b[0m\u001b[0m\n",
      "\u001b[0;32m/usr/local/lib/python3.8/dist-packages/urllib3/request.py\u001b[0m in \u001b[0;36mrequest\u001b[0;34m(self, method, url, fields, headers, **urlopen_kw)\u001b[0m\n\u001b[1;32m     68\u001b[0m         \"\"\"\n\u001b[1;32m     69\u001b[0m         \u001b[0mmethod\u001b[0m \u001b[0;34m=\u001b[0m \u001b[0mmethod\u001b[0m\u001b[0;34m.\u001b[0m\u001b[0mupper\u001b[0m\u001b[0;34m(\u001b[0m\u001b[0;34m)\u001b[0m\u001b[0;34m\u001b[0m\u001b[0;34m\u001b[0m\u001b[0m\n\u001b[0;32m---> 70\u001b[0;31m \u001b[0;34m\u001b[0m\u001b[0m\n\u001b[0m\u001b[1;32m     71\u001b[0m         \u001b[0murlopen_kw\u001b[0m\u001b[0;34m[\u001b[0m\u001b[0;34m\"request_url\"\u001b[0m\u001b[0;34m]\u001b[0m \u001b[0;34m=\u001b[0m \u001b[0murl\u001b[0m\u001b[0;34m\u001b[0m\u001b[0;34m\u001b[0m\u001b[0m\n\u001b[1;32m     72\u001b[0m \u001b[0;34m\u001b[0m\u001b[0m\n",
      "\u001b[0;32m/usr/local/lib/python3.8/dist-packages/urllib3/request.py\u001b[0m in \u001b[0;36mrequest_encode_body\u001b[0;34m(self, method, url, fields, headers, encode_multipart, multipart_boundary, **urlopen_kw)\u001b[0m\n\u001b[1;32m    148\u001b[0m         \u001b[0;32mif\u001b[0m \u001b[0mfields\u001b[0m\u001b[0;34m:\u001b[0m\u001b[0;34m\u001b[0m\u001b[0;34m\u001b[0m\u001b[0m\n\u001b[1;32m    149\u001b[0m             \u001b[0;32mif\u001b[0m \u001b[0;34m\"body\"\u001b[0m \u001b[0;32min\u001b[0m \u001b[0murlopen_kw\u001b[0m\u001b[0;34m:\u001b[0m\u001b[0;34m\u001b[0m\u001b[0;34m\u001b[0m\u001b[0m\n\u001b[0;32m--> 150\u001b[0;31m                 raise TypeError(\n\u001b[0m\u001b[1;32m    151\u001b[0m                     \u001b[0;34m\"request got values for both 'fields' and 'body', can only specify one.\"\u001b[0m\u001b[0;34m\u001b[0m\u001b[0;34m\u001b[0m\u001b[0m\n\u001b[1;32m    152\u001b[0m                 )\n",
      "\u001b[0;32m/usr/local/lib/python3.8/dist-packages/urllib3/poolmanager.py\u001b[0m in \u001b[0;36murlopen\u001b[0;34m(self, method, url, redirect, **kw)\u001b[0m\n\u001b[1;32m    322\u001b[0m \u001b[0;34m\u001b[0m\u001b[0m\n\u001b[1;32m    323\u001b[0m     \u001b[0;32mdef\u001b[0m \u001b[0m_proxy_requires_url_absolute_form\u001b[0m\u001b[0;34m(\u001b[0m\u001b[0mself\u001b[0m\u001b[0;34m,\u001b[0m \u001b[0mparsed_url\u001b[0m\u001b[0;34m)\u001b[0m\u001b[0;34m:\u001b[0m\u001b[0;34m\u001b[0m\u001b[0;34m\u001b[0m\u001b[0m\n\u001b[0;32m--> 324\u001b[0;31m         \"\"\"\n\u001b[0m\u001b[1;32m    325\u001b[0m         \u001b[0mIndicates\u001b[0m \u001b[0;32mif\u001b[0m \u001b[0mthe\u001b[0m \u001b[0mproxy\u001b[0m \u001b[0mrequires\u001b[0m \u001b[0mthe\u001b[0m \u001b[0mcomplete\u001b[0m \u001b[0mdestination\u001b[0m \u001b[0mURL\u001b[0m \u001b[0;32min\u001b[0m \u001b[0mthe\u001b[0m\u001b[0;34m\u001b[0m\u001b[0;34m\u001b[0m\u001b[0m\n\u001b[1;32m    326\u001b[0m         \u001b[0mrequest\u001b[0m\u001b[0;34m.\u001b[0m  \u001b[0mNormally\u001b[0m \u001b[0mthis\u001b[0m \u001b[0;32mis\u001b[0m \u001b[0monly\u001b[0m \u001b[0mneeded\u001b[0m \u001b[0mwhen\u001b[0m \u001b[0;32mnot\u001b[0m \u001b[0musing\u001b[0m \u001b[0man\u001b[0m \u001b[0mHTTP\u001b[0m \u001b[0mCONNECT\u001b[0m\u001b[0;34m\u001b[0m\u001b[0;34m\u001b[0m\u001b[0m\n",
      "\u001b[0;32m/usr/local/lib/python3.8/dist-packages/urllib3/connectionpool.py\u001b[0m in \u001b[0;36murlopen\u001b[0;34m(self, method, url, body, headers, retries, redirect, assert_same_host, timeout, pool_timeout, release_conn, chunked, body_pos, **response_kw)\u001b[0m\n\u001b[1;32m    595\u001b[0m \u001b[0;34m\u001b[0m\u001b[0m\n\u001b[1;32m    596\u001b[0m         \u001b[0;34m:\u001b[0m\u001b[0mparam\u001b[0m \u001b[0mtimeout\u001b[0m\u001b[0;34m:\u001b[0m\u001b[0;34m\u001b[0m\u001b[0;34m\u001b[0m\u001b[0m\n\u001b[0;32m--> 597\u001b[0;31m             \u001b[0mIf\u001b[0m \u001b[0mspecified\u001b[0m\u001b[0;34m,\u001b[0m \u001b[0moverrides\u001b[0m \u001b[0mthe\u001b[0m \u001b[0mdefault\u001b[0m \u001b[0mtimeout\u001b[0m \u001b[0;32mfor\u001b[0m \u001b[0mthis\u001b[0m \u001b[0mone\u001b[0m\u001b[0;34m\u001b[0m\u001b[0;34m\u001b[0m\u001b[0m\n\u001b[0m\u001b[1;32m    598\u001b[0m             \u001b[0mrequest\u001b[0m\u001b[0;34m.\u001b[0m \u001b[0mIt\u001b[0m \u001b[0mmay\u001b[0m \u001b[0mbe\u001b[0m \u001b[0ma\u001b[0m \u001b[0mfloat\u001b[0m \u001b[0;34m(\u001b[0m\u001b[0;32min\u001b[0m \u001b[0mseconds\u001b[0m\u001b[0;34m)\u001b[0m \u001b[0;32mor\u001b[0m \u001b[0man\u001b[0m \u001b[0minstance\u001b[0m \u001b[0mof\u001b[0m\u001b[0;34m\u001b[0m\u001b[0;34m\u001b[0m\u001b[0m\n\u001b[1;32m    599\u001b[0m             \u001b[0;34m:\u001b[0m\u001b[0;32mclass\u001b[0m\u001b[0;34m:\u001b[0m\u001b[0;31m`\u001b[0m\u001b[0murllib3\u001b[0m\u001b[0;34m.\u001b[0m\u001b[0mutil\u001b[0m\u001b[0;34m.\u001b[0m\u001b[0mTimeout\u001b[0m\u001b[0;31m`\u001b[0m\u001b[0;34m.\u001b[0m\u001b[0;34m\u001b[0m\u001b[0;34m\u001b[0m\u001b[0m\n",
      "\u001b[0;32m/usr/local/lib/python3.8/dist-packages/urllib3/connectionpool.py\u001b[0m in \u001b[0;36m_make_request\u001b[0;34m(self, conn, method, url, timeout, chunked, **httplib_request_kw)\u001b[0m\n\u001b[1;32m    378\u001b[0m         \u001b[0mself\u001b[0m\u001b[0;34m.\u001b[0m\u001b[0mnum_requests\u001b[0m \u001b[0;34m+=\u001b[0m \u001b[0;36m1\u001b[0m\u001b[0;34m\u001b[0m\u001b[0;34m\u001b[0m\u001b[0m\n\u001b[1;32m    379\u001b[0m \u001b[0;34m\u001b[0m\u001b[0m\n\u001b[0;32m--> 380\u001b[0;31m         \u001b[0mtimeout_obj\u001b[0m \u001b[0;34m=\u001b[0m \u001b[0mself\u001b[0m\u001b[0;34m.\u001b[0m\u001b[0m_get_timeout\u001b[0m\u001b[0;34m(\u001b[0m\u001b[0mtimeout\u001b[0m\u001b[0;34m)\u001b[0m\u001b[0;34m\u001b[0m\u001b[0;34m\u001b[0m\u001b[0m\n\u001b[0m\u001b[1;32m    381\u001b[0m         \u001b[0mtimeout_obj\u001b[0m\u001b[0;34m.\u001b[0m\u001b[0mstart_connect\u001b[0m\u001b[0;34m(\u001b[0m\u001b[0;34m)\u001b[0m\u001b[0;34m\u001b[0m\u001b[0;34m\u001b[0m\u001b[0m\n\u001b[1;32m    382\u001b[0m         \u001b[0mconn\u001b[0m\u001b[0;34m.\u001b[0m\u001b[0mtimeout\u001b[0m \u001b[0;34m=\u001b[0m \u001b[0mtimeout_obj\u001b[0m\u001b[0;34m.\u001b[0m\u001b[0mconnect_timeout\u001b[0m\u001b[0;34m\u001b[0m\u001b[0;34m\u001b[0m\u001b[0m\n",
      "\u001b[0;32m/usr/lib/python3.8/http/client.py\u001b[0m in \u001b[0;36mgetresponse\u001b[0;34m(self)\u001b[0m\n\u001b[1;32m   1346\u001b[0m         \u001b[0;32mtry\u001b[0m\u001b[0;34m:\u001b[0m\u001b[0;34m\u001b[0m\u001b[0;34m\u001b[0m\u001b[0m\n\u001b[1;32m   1347\u001b[0m             \u001b[0;32mtry\u001b[0m\u001b[0;34m:\u001b[0m\u001b[0;34m\u001b[0m\u001b[0;34m\u001b[0m\u001b[0m\n\u001b[0;32m-> 1348\u001b[0;31m                 \u001b[0mresponse\u001b[0m\u001b[0;34m.\u001b[0m\u001b[0mbegin\u001b[0m\u001b[0;34m(\u001b[0m\u001b[0;34m)\u001b[0m\u001b[0;34m\u001b[0m\u001b[0;34m\u001b[0m\u001b[0m\n\u001b[0m\u001b[1;32m   1349\u001b[0m             \u001b[0;32mexcept\u001b[0m \u001b[0mConnectionError\u001b[0m\u001b[0;34m:\u001b[0m\u001b[0;34m\u001b[0m\u001b[0;34m\u001b[0m\u001b[0m\n\u001b[1;32m   1350\u001b[0m                 \u001b[0mself\u001b[0m\u001b[0;34m.\u001b[0m\u001b[0mclose\u001b[0m\u001b[0;34m(\u001b[0m\u001b[0;34m)\u001b[0m\u001b[0;34m\u001b[0m\u001b[0;34m\u001b[0m\u001b[0m\n",
      "\u001b[0;32m/usr/lib/python3.8/http/client.py\u001b[0m in \u001b[0;36mbegin\u001b[0;34m(self)\u001b[0m\n\u001b[1;32m    314\u001b[0m         \u001b[0;31m# read until we get a non-100 response\u001b[0m\u001b[0;34m\u001b[0m\u001b[0;34m\u001b[0m\u001b[0;34m\u001b[0m\u001b[0m\n\u001b[1;32m    315\u001b[0m         \u001b[0;32mwhile\u001b[0m \u001b[0;32mTrue\u001b[0m\u001b[0;34m:\u001b[0m\u001b[0;34m\u001b[0m\u001b[0;34m\u001b[0m\u001b[0m\n\u001b[0;32m--> 316\u001b[0;31m             \u001b[0mversion\u001b[0m\u001b[0;34m,\u001b[0m \u001b[0mstatus\u001b[0m\u001b[0;34m,\u001b[0m \u001b[0mreason\u001b[0m \u001b[0;34m=\u001b[0m \u001b[0mself\u001b[0m\u001b[0;34m.\u001b[0m\u001b[0m_read_status\u001b[0m\u001b[0;34m(\u001b[0m\u001b[0;34m)\u001b[0m\u001b[0;34m\u001b[0m\u001b[0;34m\u001b[0m\u001b[0m\n\u001b[0m\u001b[1;32m    317\u001b[0m             \u001b[0;32mif\u001b[0m \u001b[0mstatus\u001b[0m \u001b[0;34m!=\u001b[0m \u001b[0mCONTINUE\u001b[0m\u001b[0;34m:\u001b[0m\u001b[0;34m\u001b[0m\u001b[0;34m\u001b[0m\u001b[0m\n\u001b[1;32m    318\u001b[0m                 \u001b[0;32mbreak\u001b[0m\u001b[0;34m\u001b[0m\u001b[0;34m\u001b[0m\u001b[0m\n",
      "\u001b[0;32m/usr/lib/python3.8/http/client.py\u001b[0m in \u001b[0;36m_read_status\u001b[0;34m(self)\u001b[0m\n\u001b[1;32m    275\u001b[0m \u001b[0;34m\u001b[0m\u001b[0m\n\u001b[1;32m    276\u001b[0m     \u001b[0;32mdef\u001b[0m \u001b[0m_read_status\u001b[0m\u001b[0;34m(\u001b[0m\u001b[0mself\u001b[0m\u001b[0;34m)\u001b[0m\u001b[0;34m:\u001b[0m\u001b[0;34m\u001b[0m\u001b[0;34m\u001b[0m\u001b[0m\n\u001b[0;32m--> 277\u001b[0;31m         \u001b[0mline\u001b[0m \u001b[0;34m=\u001b[0m \u001b[0mstr\u001b[0m\u001b[0;34m(\u001b[0m\u001b[0mself\u001b[0m\u001b[0;34m.\u001b[0m\u001b[0mfp\u001b[0m\u001b[0;34m.\u001b[0m\u001b[0mreadline\u001b[0m\u001b[0;34m(\u001b[0m\u001b[0m_MAXLINE\u001b[0m \u001b[0;34m+\u001b[0m \u001b[0;36m1\u001b[0m\u001b[0;34m)\u001b[0m\u001b[0;34m,\u001b[0m \u001b[0;34m\"iso-8859-1\"\u001b[0m\u001b[0;34m)\u001b[0m\u001b[0;34m\u001b[0m\u001b[0;34m\u001b[0m\u001b[0m\n\u001b[0m\u001b[1;32m    278\u001b[0m         \u001b[0;32mif\u001b[0m \u001b[0mlen\u001b[0m\u001b[0;34m(\u001b[0m\u001b[0mline\u001b[0m\u001b[0;34m)\u001b[0m \u001b[0;34m>\u001b[0m \u001b[0m_MAXLINE\u001b[0m\u001b[0;34m:\u001b[0m\u001b[0;34m\u001b[0m\u001b[0;34m\u001b[0m\u001b[0m\n\u001b[1;32m    279\u001b[0m             \u001b[0;32mraise\u001b[0m \u001b[0mLineTooLong\u001b[0m\u001b[0;34m(\u001b[0m\u001b[0;34m\"status line\"\u001b[0m\u001b[0;34m)\u001b[0m\u001b[0;34m\u001b[0m\u001b[0;34m\u001b[0m\u001b[0m\n",
      "\u001b[0;32m/usr/lib/python3.8/socket.py\u001b[0m in \u001b[0;36mreadinto\u001b[0;34m(self, b)\u001b[0m\n\u001b[1;32m    667\u001b[0m         \u001b[0;32mwhile\u001b[0m \u001b[0;32mTrue\u001b[0m\u001b[0;34m:\u001b[0m\u001b[0;34m\u001b[0m\u001b[0;34m\u001b[0m\u001b[0m\n\u001b[1;32m    668\u001b[0m             \u001b[0;32mtry\u001b[0m\u001b[0;34m:\u001b[0m\u001b[0;34m\u001b[0m\u001b[0;34m\u001b[0m\u001b[0m\n\u001b[0;32m--> 669\u001b[0;31m                 \u001b[0;32mreturn\u001b[0m \u001b[0mself\u001b[0m\u001b[0;34m.\u001b[0m\u001b[0m_sock\u001b[0m\u001b[0;34m.\u001b[0m\u001b[0mrecv_into\u001b[0m\u001b[0;34m(\u001b[0m\u001b[0mb\u001b[0m\u001b[0;34m)\u001b[0m\u001b[0;34m\u001b[0m\u001b[0;34m\u001b[0m\u001b[0m\n\u001b[0m\u001b[1;32m    670\u001b[0m             \u001b[0;32mexcept\u001b[0m \u001b[0mtimeout\u001b[0m\u001b[0;34m:\u001b[0m\u001b[0;34m\u001b[0m\u001b[0;34m\u001b[0m\u001b[0m\n\u001b[1;32m    671\u001b[0m                 \u001b[0mself\u001b[0m\u001b[0;34m.\u001b[0m\u001b[0m_timeout_occurred\u001b[0m \u001b[0;34m=\u001b[0m \u001b[0;32mTrue\u001b[0m\u001b[0;34m\u001b[0m\u001b[0;34m\u001b[0m\u001b[0m\n",
      "\u001b[0;31mKeyboardInterrupt\u001b[0m: "
     ]
    }
   ],
   "source": [
    "final_data = get_pages_data()\n",
    "final_data"
   ]
  },
  {
   "cell_type": "markdown",
   "metadata": {
    "id": "VAgz-Qc_gis4"
   },
   "source": [
    "# Store data in Pandas dataframe "
   ]
  },
  {
   "cell_type": "code",
   "execution_count": null,
   "metadata": {
    "executionInfo": {
     "elapsed": 8,
     "status": "aborted",
     "timestamp": 1672142577536,
     "user": {
      "displayName": "V Ravindhar Reddy",
      "userId": "01262237436482801696"
     },
     "user_tz": -60
    },
    "id": "8Ae-SRTyKWEL"
   },
   "outputs": [],
   "source": [
    "import pandas as pd\n",
    "df_grabCad_library = pd.DataFrame(final_data)\n",
    "df_grabCad_library"
   ]
  },
  {
   "cell_type": "markdown",
   "metadata": {
    "id": "nhr0ywgJkJLl"
   },
   "source": [
    "# Create a CSV file"
   ]
  },
  {
   "cell_type": "code",
   "execution_count": null,
   "metadata": {
    "executionInfo": {
     "elapsed": 9,
     "status": "aborted",
     "timestamp": 1672142577537,
     "user": {
      "displayName": "V Ravindhar Reddy",
      "userId": "01262237436482801696"
     },
     "user_tz": -60
    },
    "id": "OZ5XEpHi_Lv8"
   },
   "outputs": [],
   "source": [
    "from IPython.lib.display import exists\n",
    "from google.colab import files\n",
    "df_grabCad_library.to_csv('grabCad_lirary.csv', index=False)\n",
    " # files.download is to download the csv file into our system \n",
    "files.download('grabCad_lirary.csv')\n",
    "# read the csv file using pandas library\n",
    "df = pd.read_csv('grabCad_lirary.csv')\n",
    "print(df)"
   ]
  },
  {
   "cell_type": "markdown",
   "metadata": {
    "id": "3gFReSm-yed3"
   },
   "source": [
    "# Summary\n",
    "\n",
    "* Scraped Popular 3D printing CAD models details from [grabcad.com/library]('https://grabcad.com/library?page=1&per_page=100&time=all_time&sort=popular&categories=3d-printing') using `kora.selenium` on Google colab\n",
    "\n",
    "* For each model, we got title, author, URL, image_URL and counts of likes, downloads and comments\n",
    "\n",
    "* We created a list of dictionary to store the each model information and store the data into Pandas dataframe\n",
    "\n",
    "* Finally, saved 200 rows & 7 columns of dataframe into a CSV file\n"
   ]
  },
  {
   "cell_type": "markdown",
   "metadata": {
    "id": "mAHyX9BPj9XU"
   },
   "source": [
    "# Reference\n",
    "\n",
    "* [Python webscraping tutorial]('https://jovian.ai/learn/zero-to-data-analyst-bootcamp/lesson/web-scraping-with-selenium-aws') by N S. Aakash from Jovian\n",
    "* [Selenium documentation](\"https://selenium-python.readthedocs.io/\")\n",
    "* https://stackoverflow.com\n"
   ]
  },
  {
   "cell_type": "markdown",
   "metadata": {
    "id": "IOUko9TkmYKj"
   },
   "source": [
    "# Ideas for future work\n",
    "\n",
    "* Get more data by accessing each model url and scrape attributes such as uploaded date, software used etc.\n",
    "* Optimize the code functions and better understanding\n"
   ]
  },
  {
   "cell_type": "markdown",
   "metadata": {
    "id": "nRZ4yF3IYSJt"
   },
   "source": [
    "Save work in Jovian profile"
   ]
  },
  {
   "cell_type": "code",
   "execution_count": null,
   "metadata": {
    "executionInfo": {
     "elapsed": 9,
     "status": "aborted",
     "timestamp": 1672142577537,
     "user": {
      "displayName": "V Ravindhar Reddy",
      "userId": "01262237436482801696"
     },
     "user_tz": -60
    },
    "id": "mmdRhI6i3c_K"
   },
   "outputs": [],
   "source": [
    "jovian.commit(files = ['grabCad_lirary.csv'])"
   ]
  },
  {
   "cell_type": "code",
   "execution_count": null,
   "metadata": {
    "executionInfo": {
     "elapsed": 9,
     "status": "aborted",
     "timestamp": 1672142577538,
     "user": {
      "displayName": "V Ravindhar Reddy",
      "userId": "01262237436482801696"
     },
     "user_tz": -60
    },
    "id": "7ihXM3fj-F8U"
   },
   "outputs": [],
   "source": [
    "jovian.commit(project='project-grabcad-web-scraping')"
   ]
  }
 ],
 "metadata": {
  "colab": {
   "provenance": []
  },
  "kernelspec": {
   "display_name": "Python 3 (ipykernel)",
   "language": "python",
   "name": "python3"
  },
  "language_info": {
   "codemirror_mode": {
    "name": "ipython",
    "version": 3
   },
   "file_extension": ".py",
   "mimetype": "text/x-python",
   "name": "python",
   "nbconvert_exporter": "python",
   "pygments_lexer": "ipython3",
   "version": "3.9.6"
  }
 },
 "nbformat": 4,
 "nbformat_minor": 0
}